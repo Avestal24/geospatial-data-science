{
 "cells": [
  {
   "cell_type": "markdown",
   "metadata": {},
   "source": [
    "### Lab Assignment 5: Land cover classification using Python\n",
    "\n",
    "**Objectives:**\n",
    "   * We will classify a Landsat image into separate land covers\n",
    "   * Learn about reading/writing raster and vector data in Python using <code>rasterio</code> and <code>geopandas</code>\n",
    "   * Perform supervised classification using <code>scikit-learn</code>\n",
    "   * Evaluate our machine learning model\n",
    "   * Visualize our data in QGIS\n",
    "\n",
    "We will be relying heavily on <code>osmnx</code> which is a package that enables automatic download of geospatial data from OSM and allows us to model, project, visualize, and analyze real-world street networks. More information about this package can be found [here](https://osmnx.readthedocs.io/en/stable/) and the [GitHub repo](https://github.com/gboeing/osmnx/tree/6f9236f20a81416bf34186a811a8ebb76afa0dc8)\n",
    "\n",
    "We will start with a simple example that calculates Euclidean distance to some cafes in Eugene. After that, we will use the <code>networkx</code> package to calculate actual walking distances from Condon Hall to Autzen Stadium using sidewalks and trails."
   ]
  }
 ],
 "metadata": {
  "kernelspec": {
   "display_name": "Python 3",
   "language": "python",
   "name": "python3"
  },
  "language_info": {
   "codemirror_mode": {
    "name": "ipython",
    "version": 3
   },
   "file_extension": ".py",
   "mimetype": "text/x-python",
   "name": "python",
   "nbconvert_exporter": "python",
   "pygments_lexer": "ipython3",
   "version": "3.8.3"
  }
 },
 "nbformat": 4,
 "nbformat_minor": 4
}
