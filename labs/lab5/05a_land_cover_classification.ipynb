{
 "cells": [
  {
   "cell_type": "markdown",
   "metadata": {},
   "source": [
    "## Lab 5a: Land cover classification using Python\n",
    "\n",
    "**Objectives:**\n",
    "   * We will classify a Landsat image into separate land covers\n",
    "   * Learn about reading/writing raster and vector data in Python using <code>rasterio</code> and <code>geopandas</code>\n",
    "   * Perform supervised classification using <code>scikit-learn</code>\n",
    "   * Evaluate our machine learning model\n",
    "   * Visualize our data in QGIS\n",
    "\n",
    "We will classify a Landsat image "
   ]
  },
  {
   "cell_type": "code",
   "execution_count": null,
   "metadata": {},
   "outputs": [],
   "source": []
  }
 ],
 "metadata": {
  "kernelspec": {
   "display_name": "Python 3 (ipykernel)",
   "language": "python",
   "name": "python3"
  },
  "language_info": {
   "codemirror_mode": {
    "name": "ipython",
    "version": 3
   },
   "file_extension": ".py",
   "mimetype": "text/x-python",
   "name": "python",
   "nbconvert_exporter": "python",
   "pygments_lexer": "ipython3",
   "version": "3.8.12"
  }
 },
 "nbformat": 4,
 "nbformat_minor": 4
}
