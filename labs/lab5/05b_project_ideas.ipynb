{
 "cells": [
  {
   "cell_type": "markdown",
   "id": "030ff539",
   "metadata": {},
   "source": [
    "## Lab 5b: Project ideas\n",
    "\n",
    "### Objectives\n",
    "\n",
    "Now we have explored some different types of geospatial data (e.g. table, network, and gridded) and we are familiar with some different types of analyses, we should be ready to come up with some project ideas.\n",
    "\n",
    "There is intentionally a lot of flexibility here. This can be an individual or group project, though I encourage you to consider a group project, as you can do more collectively, and it will provide real-world experience with collaborative development on Github.\n",
    "\n",
    "You have several options:\n",
    "* Propose a new research question that you have been interested in for a while but never had the chance to investigate. Hopefully some of the concepts we’ve covered in class will help you carry out the project.\n",
    "* If you’re already engaged in independent research, propose a project that will move that work forward\n",
    "* Explore a side project that is related to your independent research\n",
    "* Join forces with others in the class who already have a project idea.\n",
    "* If independent research is new to you or you are still struggling, talk to the instructor or grad students in the class to define a suitable final project."
   ]
  },
  {
   "cell_type": "markdown",
   "id": "1a2efe3b",
   "metadata": {},
   "source": [
    "### Task 1 (10 points):\n",
    "\n",
    "* Submit a project idea on the `projects` Slack channel.\n",
    "* Come to class ready to share your idea(s) in small groups and provide feedback to others in the next lab\n",
    "* If you see potential opportunities to work with other students, follow up with them on Slack!"
   ]
  },
  {
   "cell_type": "code",
   "execution_count": null,
   "id": "1f2138e7",
   "metadata": {},
   "outputs": [],
   "source": []
  }
 ],
 "metadata": {
  "kernelspec": {
   "display_name": "Python 3 (ipykernel)",
   "language": "python",
   "name": "python3"
  },
  "language_info": {
   "codemirror_mode": {
    "name": "ipython",
    "version": 3
   },
   "file_extension": ".py",
   "mimetype": "text/x-python",
   "name": "python",
   "nbconvert_exporter": "python",
   "pygments_lexer": "ipython3",
   "version": "3.8.12"
  }
 },
 "nbformat": 4,
 "nbformat_minor": 5
}
