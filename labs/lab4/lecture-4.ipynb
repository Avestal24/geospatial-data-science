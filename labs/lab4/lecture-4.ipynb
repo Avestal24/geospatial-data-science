{
 "cells": [
  {
   "cell_type": "markdown",
   "id": "2686a85d",
   "metadata": {
    "slideshow": {
     "slide_type": "slide"
    }
   },
   "source": [
    "<CENTER>\n",
    "    <h1> Geospatial Data Science Applications: GEOG 4/590</h1>\n",
    "    <h3>Jan 10, 2022</h3>\n",
    "    <h2>Lecture 4: Gridded data</h2>\n",
    "    <img src=\"images/coding-computer-programming.jpeg\" width=\"300\"/>\n",
    "    <h3>Johnny Ryan: jryan4@uoregon.edu</h3>\n",
    "</CENTER>"
   ]
  },
  {
   "cell_type": "markdown",
   "id": "19b9ed69",
   "metadata": {
    "slideshow": {
     "slide_type": "slide"
    }
   },
   "source": [
    "## Content of this lecture\n",
    "\n",
    "* Quick review of raster data\n",
    "\n",
    "\n",
    "* Bit of history about handling raster data in Python\n",
    "\n",
    "\n",
    "* Introduce GDAL, rasterio, and xarray libararies\n",
    "\n",
    "\n",
    "* Learn how to read, inspect, manipulate, and write raster data using these libraries\n",
    "\n",
    "\n",
    "* Background for this week's lab"
   ]
  },
  {
   "cell_type": "markdown",
   "id": "9f918a3c",
   "metadata": {
    "slideshow": {
     "slide_type": "slide"
    }
   },
   "source": [
    "## Raster data"
   ]
  },
  {
   "cell_type": "markdown",
   "id": "a8021253",
   "metadata": {},
   "source": []
  },
  {
   "cell_type": "markdown",
   "id": "f70072d6",
   "metadata": {},
   "source": []
  },
  {
   "cell_type": "code",
   "execution_count": null,
   "id": "f9c21a70",
   "metadata": {},
   "outputs": [],
   "source": []
  },
  {
   "cell_type": "markdown",
   "id": "18617b4d",
   "metadata": {},
   "source": []
  },
  {
   "cell_type": "markdown",
   "id": "2a5e63e6",
   "metadata": {},
   "source": []
  },
  {
   "cell_type": "markdown",
   "id": "013b039d",
   "metadata": {},
   "source": []
  }
 ],
 "metadata": {
  "celltoolbar": "Slideshow",
  "kernelspec": {
   "display_name": "Python 3 (ipykernel)",
   "language": "python",
   "name": "python3"
  },
  "language_info": {
   "codemirror_mode": {
    "name": "ipython",
    "version": 3
   },
   "file_extension": ".py",
   "mimetype": "text/x-python",
   "name": "python",
   "nbconvert_exporter": "python",
   "pygments_lexer": "ipython3",
   "version": "3.8.12"
  }
 },
 "nbformat": 4,
 "nbformat_minor": 5
}
