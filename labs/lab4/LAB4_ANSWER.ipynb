{
 "cells": [
  {
   "cell_type": "markdown",
   "id": "f83a7d3d",
   "metadata": {},
   "source": [
    "Answers:\n",
    "\n",
    "Question 1)\n",
    "a) It was 53.82 degrees fahrenheit and 99.98 percent covered by clouds (day 30)\n",
    "b) It was 45.76 degrees fahrenheit and 100.00 percent covered by clouds (day 45)\n",
    "\n",
    "Question 2)\n",
    "a) Hottest place was\n",
    "b) Coldest place was\n",
    "c) Heaviest clouds were at\n",
    "d) Lightest clouds were at\n",
    "e) Highest range in cloud cover was at\n",
    "f) The single coldest day was at "
   ]
  },
  {
   "cell_type": "code",
   "execution_count": null,
   "id": "3afee093",
   "metadata": {},
   "outputs": [],
   "source": []
  },
  {
   "cell_type": "code",
   "execution_count": null,
   "id": "dd0bdeeb",
   "metadata": {},
   "outputs": [],
   "source": []
  }
 ],
 "metadata": {
  "kernelspec": {
   "display_name": "Python 3 (ipykernel)",
   "language": "python",
   "name": "python3"
  },
  "language_info": {
   "codemirror_mode": {
    "name": "ipython",
    "version": 3
   },
   "file_extension": ".py",
   "mimetype": "text/x-python",
   "name": "python",
   "nbconvert_exporter": "python",
   "pygments_lexer": "ipython3",
   "version": "3.8.12"
  }
 },
 "nbformat": 4,
 "nbformat_minor": 5
}
