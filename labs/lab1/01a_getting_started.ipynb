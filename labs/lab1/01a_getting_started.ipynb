{
 "cells": [
  {
   "cell_type": "markdown",
   "id": "fde9a8c9",
   "metadata": {},
   "source": [
    "## Lab Assignment 1a: Getting started with Python and GitHub\n",
    "\n",
    "**Objectives:**\n",
    "   * Sign-up for a GitHub account\n",
    "   * Clone the course repository so we access the materials\n",
    "   * Install Python distribution using [Anaconda](https://www.anaconda.com/products/individual)\n",
    "   * Make a new Python environment using <code>conda</code>\n",
    "   * View the assignment as a <code>jupyter notebook</code>\n",
    "   * Write some basic Pyton script\n",
    "   * Push script to GitHub"
   ]
  },
  {
   "cell_type": "markdown",
   "id": "dd040724",
   "metadata": {},
   "source": [
    "### Step 1: Sign-up for GitHub account\n",
    "\n",
    "If you already have a GitHub account, you can skip this step. If not, create a new GitHub account using your <code>.uoregon.edu</code> email address [here](https://github.com/signup?ref_cta=Sign+up&ref_loc=header+logged+out&ref_page=%2F&source=header-home)."
   ]
  },
  {
   "cell_type": "markdown",
   "id": "5a0384cf",
   "metadata": {},
   "source": [
    "### Step 2: Install git and clone course repository\n",
    "\n",
    "The best way to interact with the course materials is to use [git](https://git-scm.com/) to <code>clone</code> the course repository. If you don't have git already on you computer, it is easy to install on all platforms following [these instructions](https://git-scm.com/book/en/v2/Getting-Started-Installing-Git).\n",
    "\n",
    "Now navigate to where you keep your files for other classes and clone the [course repository](https://github.com/JohnnyRyan1/geospatial-data-science.git). This can be done from the command line by running:\n",
    "\n",
    "<code>git clone https://github.com/JohnnyRyan1/geospatial_data_science</code>\n",
    "\n",
    "Once you have the repository cloned, you can update it by running:\n",
    "\n",
    "<code>git pull origin master</code>"
   ]
  },
  {
   "cell_type": "markdown",
   "id": "b1864606",
   "metadata": {},
   "source": [
    "### Step 3: Install Anaconda\n",
    "\n",
    "In order to execute the code in the notebooks, you will need to install a Python distribution with the necessary packages. Ananconda is already installed on the SSIL lab computers but you can also get it on your laptops. You can do this by installing the [Anaconda Individual Edition](https://www.anaconda.com/products/individual)."
   ]
  },
  {
   "cell_type": "markdown",
   "id": "7aff929d",
   "metadata": {},
   "source": [
    "### Step 4: Make a new environment\n",
    "\n",
    "Each lab includes an environment file (e.g. <code>environment.yml</code>) which can be used to set up your Python environment. To install the conda environment for **Lab 1**, type the following in a terminal:\n",
    "\n",
    "<code>conda env create -f /path/to/labs/lab1/environment.yml</code>\n",
    "\n",
    "Where <code>/path/to/</code> is the path to your cloned repository folder. This will create a new environment called **lab1**. To activate this environment, type:\n",
    "\n",
    "<code>conda activate lab1</code>"
   ]
  },
  {
   "cell_type": "markdown",
   "id": "bef19098",
   "metadata": {},
   "source": [
    "### Step 5: View the assignments\n",
    "\n",
    "Now that you have the required packages instaled, the notebooks can be viewed using the [jupyter notebook](https://jupyter-notebook.readthedocs.io/en/stable/notebook.html) application. Navigate to the **lab1** folder and open the first assignment by running:\n",
    "\n",
    "<code>jupyter notebook 01b_python_script.ipynb</code>\n",
    "\n",
    "Note that if you browse directly to the notebooks on GitHub, they will not display as intended."
   ]
  }
 ],
 "metadata": {
  "kernelspec": {
   "display_name": "Python 3 (ipykernel)",
   "language": "python",
   "name": "python3"
  },
  "language_info": {
   "codemirror_mode": {
    "name": "ipython",
    "version": 3
   },
   "file_extension": ".py",
   "mimetype": "text/x-python",
   "name": "python",
   "nbconvert_exporter": "python",
   "pygments_lexer": "ipython3",
   "version": "3.8.12"
  }
 },
 "nbformat": 4,
 "nbformat_minor": 5
}
