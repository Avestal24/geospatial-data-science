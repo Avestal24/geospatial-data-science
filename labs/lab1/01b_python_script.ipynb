{
 "cells": [
  {
   "cell_type": "markdown",
   "id": "6450b5fc",
   "metadata": {},
   "source": [
    "## Lab Assignment 1b: Instructions for submitting assignments\n",
    "\n",
    "**Objectives:**\n",
    "   * Write a Python script in <code>spyder</code>\n",
    "   * Add the script to your answers notebook along with your answers to some questions\n",
    "   * Submit answers notebook in <code>.ipynb</code> format using GitHub"
   ]
  },
  {
   "cell_type": "markdown",
   "id": "216d1d28",
   "metadata": {},
   "source": [
    "### Step 1: Write a short script using Spyder"
   ]
  },
  {
   "cell_type": "markdown",
   "id": "9cac744a",
   "metadata": {},
   "source": [
    "So now that we have things up-and-running, we can write a short script."
   ]
  },
  {
   "cell_type": "code",
   "execution_count": 3,
   "id": "5e1a73b5",
   "metadata": {},
   "outputs": [
    {
     "name": "stdout",
     "output_type": "stream",
     "text": [
      "6\n"
     ]
    }
   ],
   "source": [
    "import numpy as np\n",
    "a = 3\n",
    "b = 2\n",
    "c = np.multiply(a, b)\n",
    "print(c)"
   ]
  },
  {
   "cell_type": "markdown",
   "id": "763a0850",
   "metadata": {},
   "source": [
    "This is great but sometimes it is easier to write scripts in an IDE (integrated development environment) such as [<code>spyder</code>](https://www.spyder-ide.org/) which was installed when we created the **lab1** environment.  "
   ]
  },
  {
   "cell_type": "markdown",
   "id": "e00f10d7",
   "metadata": {},
   "source": [
    "Just like a <code>jupyer notebook</code>, we can open the IDE by typing <code>spyder</code> in the terminal (or clicking on the icon in the Anaconda dashboard)."
   ]
  },
  {
   "cell_type": "markdown",
   "id": "d8d48052",
   "metadata": {},
   "source": [
    "Those who are familar with <code>spyder</code> can go ahead and copy and paster the code above into the **code editor** and exceute it in **IPython console**. Those who are not familiar can watch this video for instructions: https://www.youtube.com/watch?v=WV9bm4ey7Cg&ab_channel=SpyderIDE.\n",
    "\n",
    "Be sure to save your Python script as a <code>.py</code> file in your course folder."
   ]
  },
  {
   "cell_type": "markdown",
   "id": "095ce397",
   "metadata": {},
   "source": [
    "### Step 2: Make an answers notebook"
   ]
  },
  {
   "cell_type": "markdown",
   "id": "0019cbae",
   "metadata": {},
   "source": [
    "In this class, each assignment will be submitted as a Jupyter Notebook (<code>.ipynb</code> format) on GitHub **and** as a <code>.pdf</code> on Canvas. Keeping the course somewhat connected to Canvas will be useful for organizing and grading. By subitting as a Jupyter Notebook will allow the instructors to test your code and provide feedback.\n",
    "\n",
    "To make the jupyter notebook document, type <code>jupyter notebook</code> in the terminal then click **New** from the menu on the upper-right and select **Python 3 (ipykernel)**. Rename this notebook as <code>labX_submission.ipynb</code> where *X* corresponds to the lab number and *YYYY* corresponds to your surname.\n",
    "\n",
    "Copy and paste your script to your notebook and run the cell to make sure your code has no errors.\n",
    "\n",
    "To submit your assignment on Canvas, copy and paste your code to a **Word Document** and export as a <code>.pdf</code>. Name this file <code>labX_submission.pdf</code> and submit to Canvas. "
   ]
  },
  {
   "cell_type": "code",
   "execution_count": null,
   "id": "4cd46875",
   "metadata": {},
   "outputs": [],
   "source": []
  },
  {
   "cell_type": "code",
   "execution_count": null,
   "id": "72dbdaa5",
   "metadata": {},
   "outputs": [],
   "source": []
  },
  {
   "cell_type": "code",
   "execution_count": null,
   "id": "137bb580",
   "metadata": {},
   "outputs": [],
   "source": []
  },
  {
   "cell_type": "markdown",
   "id": "da22194b",
   "metadata": {},
   "source": [
    "### Step 3: Push to personal GitHub repo"
   ]
  },
  {
   "cell_type": "code",
   "execution_count": null,
   "id": "6f275f6f",
   "metadata": {},
   "outputs": [],
   "source": []
  },
  {
   "cell_type": "markdown",
   "id": "8800b8aa",
   "metadata": {},
   "source": [
    "### Question 1 (50 points):\n",
    "\n",
    "* a) Copy and paste a link to your GitHub profile page\n",
    "* b) "
   ]
  },
  {
   "cell_type": "markdown",
   "id": "4f89ccf9",
   "metadata": {},
   "source": [
    "The steps in this lab will be the standard way that you will submit assignments."
   ]
  }
 ],
 "metadata": {
  "kernelspec": {
   "display_name": "Python 3 (ipykernel)",
   "language": "python",
   "name": "python3"
  },
  "language_info": {
   "codemirror_mode": {
    "name": "ipython",
    "version": 3
   },
   "file_extension": ".py",
   "mimetype": "text/x-python",
   "name": "python",
   "nbconvert_exporter": "python",
   "pygments_lexer": "ipython3",
   "version": "3.8.12"
  }
 },
 "nbformat": 4,
 "nbformat_minor": 5
}
