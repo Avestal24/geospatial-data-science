{
 "cells": [
  {
   "cell_type": "code",
   "execution_count": 1,
   "id": "41c51580",
   "metadata": {},
   "outputs": [
    {
     "name": "stdout",
     "output_type": "stream",
     "text": [
      "6\n"
     ]
    }
   ],
   "source": [
    "import numpy as np\n",
    "a = 3\n",
    "b = 2\n",
    "c = np.multiply(a, b)\n",
    "print(c)"
   ]
  },
  {
   "cell_type": "code",
   "execution_count": 2,
   "id": "9dd528dd",
   "metadata": {},
   "outputs": [
    {
     "name": "stdout",
     "output_type": "stream",
     "text": [
      "21\n"
     ]
    }
   ],
   "source": [
    "import numpy as np\n",
    "a = 3\n",
    "b = 7\n",
    "c = np.multiply(a, b)\n",
    "print(c)"
   ]
  },
  {
   "cell_type": "markdown",
   "id": "0ff83ec2",
   "metadata": {},
   "source": [
    "__Catfish__ are the *coolest* fish there poaaibly could be\n",
    "\n",
    "    \n",
    "https://nationaltoday.com/national-catfish-day/"
   ]
  },
  {
   "cell_type": "markdown",
   "id": "01943cb8",
   "metadata": {},
   "source": [
    "![National-Catfish-Day](National-Catfish-Day.jpg)"
   ]
  },
  {
   "cell_type": "code",
   "execution_count": null,
   "id": "393d9439",
   "metadata": {},
   "outputs": [],
   "source": []
  }
 ],
 "metadata": {
  "kernelspec": {
   "display_name": "Python 3 (ipykernel)",
   "language": "python",
   "name": "python3"
  },
  "language_info": {
   "codemirror_mode": {
    "name": "ipython",
    "version": 3
   },
   "file_extension": ".py",
   "mimetype": "text/x-python",
   "name": "python",
   "nbconvert_exporter": "python",
   "pygments_lexer": "ipython3",
   "version": "3.8.12"
  }
 },
 "nbformat": 4,
 "nbformat_minor": 5
}
