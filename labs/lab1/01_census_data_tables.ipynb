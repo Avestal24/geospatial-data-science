{
 "cells": [
  {
   "cell_type": "markdown",
   "id": "bdb7e5c5",
   "metadata": {},
   "source": [
    "## University of Oregon - GEOG 485/585 – Remote Sensing 1 – Fall 2021\n",
    "\n",
    "### Lab Assignment 1: Exploring Census Bureau data in Python\n",
    "\n",
    "**Objectives:** We will explore Census Bureau data using Python using <code>cenpy</code>.\n",
    "\n",
    "**Lab overview**:\n",
    "    * Learn about Census Bureau data variables and geographic units\n",
    "    * Compute unemployment rate in Lane County, Oregon using just a few lines of code\n",
    "    * Calculate some statistics using the pandas library\n",
    "    * Visualize our data in QGIS\n",
    "\n",
    "We will be relying heavily on <code>cenpy</code> which is a package that enables automatic download of US Census Bureau data and formats it as a </code>geopandas</code> DataFrame in Python. More information about this package can be found [here](https://nbviewer.org/github/ljwolf/cenpy/blob/master/notebooks/product-api.ipynb?flush_cache=true), [here](https://nbviewer.org/github/cenpy-devs/cenpy/blob/master/notebooks/segregation.ipynb), and the [GitHub repo](https://github.com/cenpy-devs/cenpy). "
   ]
  },
  {
   "cell_type": "code",
   "execution_count": 4,
   "id": "0431ce9b",
   "metadata": {},
   "outputs": [],
   "source": [
    "# Import modules\n",
    "from cenpy import products\n",
    "import matplotlib.pyplot as plt"
   ]
  },
  {
   "cell_type": "code",
   "execution_count": null,
   "id": "57063024",
   "metadata": {},
   "outputs": [],
   "source": []
  },
  {
   "cell_type": "code",
   "execution_count": null,
   "id": "d4b18812",
   "metadata": {},
   "outputs": [],
   "source": []
  }
 ],
 "metadata": {
  "kernelspec": {
   "display_name": "Python 3 (ipykernel)",
   "language": "python",
   "name": "python3"
  },
  "language_info": {
   "codemirror_mode": {
    "name": "ipython",
    "version": 3
   },
   "file_extension": ".py",
   "mimetype": "text/x-python",
   "name": "python",
   "nbconvert_exporter": "python",
   "pygments_lexer": "ipython3",
   "version": "3.8.12"
  }
 },
 "nbformat": 4,
 "nbformat_minor": 5
}
