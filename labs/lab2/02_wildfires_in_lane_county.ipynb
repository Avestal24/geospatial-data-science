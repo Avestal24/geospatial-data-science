{
 "cells": [
  {
   "cell_type": "markdown",
   "id": "9ec3aeb4",
   "metadata": {},
   "source": [
    "## Lab 2a: Exploring wildfire occurrence data in Python\n",
    "\n",
    "**Objectives:**\n",
    "   * Explore a large wildfire dataset using `pandas` and `geopandas`.\n",
    "   * Query `pandas DataFrames` and find descriptive statistics\n",
    "   * Filter and aggregate `pandas DataFrames`\n",
    "   * Plot time-series data"
   ]
  },
  {
   "cell_type": "markdown",
   "id": "802c6520",
   "metadata": {},
   "source": [
    "### Check for any updates in course materials\n",
    "\n",
    "Before we start this assignment, we need to check whether there are any updates to the original course repository. We can do this by adding the original repository (the one we forked) as a *remote*. Command line users can do this by running:\n",
    "\n",
    "<code>git remote add upstream https://github.com/JohnnyRyan1/geospatial-data-science</code>\n",
    "\n",
    "Then fetch and merge the updated course content by running:\n",
    "\n",
    "<code>git fetch upstream</code>\n",
    "\n",
    "<code>git merge upstream/master master</code>\n",
    "\n",
    "GitHub Desktop users should first click the **Fetch origin** button to check for new changes. Then click the triangle symbol next to **Current branch: master**, click **Choose a branch to merge into master**, click **upstream/master** from **Other branches** and click **Create a merge commit**. \n",
    "\n",
    "Any new updates to the course repository will now be available in your local repository."
   ]
  },
  {
   "cell_type": "markdown",
   "id": "5d9f9b47",
   "metadata": {},
   "source": [
    "### Create a new environment and launch the notebook\n",
    "\n",
    "There is an `environment.yml` file in each lab folder. This file contains a list of packages required for completing the assignments. The `environment.yml` file in this lab, for example, includes the `geopandas` package that is really useful for reading, analyzing, and writing vector data.  \n",
    "\n",
    "We can install this environment using the instructions in Lab 1 but we will repeat them here as well. Navigate to the `labs/lab2` folder (either from the terminal for Linux and Mac users or from the **CMD.exe Prompt** launched from **Anaconda Navigator** for Windows users) and run:\n",
    "\n",
    "`conda env create -f environment.yml`\n",
    "\n",
    "Activate this environment by running:\n",
    "\n",
    "`conda activate lab1`\n",
    "\n",
    "Now launch the notebook by running:\n",
    "\n",
    "`jupyter notebook 02a_wildfire_dataset.ipynb`"
   ]
  },
  {
   "cell_type": "markdown",
   "id": "31448c17",
   "metadata": {},
   "source": [
    "### Download the data for the lab\n",
    "\n",
    "We will be using a wildfire dataset for 1992-2018 period compiled from US federal, state, and local reporting systems by the Forest Service. More info can be found here: https://www.fs.usda.gov/rds/archive/Catalog/RDS-2013-0009.5. Since the max file size for GitHub is 2 GB, the lab data will be available on Dropbox. See Slack (or Canvas) for the Dropbox link. \n",
    "\n",
    "Once you have launched the notebook and downloaded the data, we are ready to begin..."
   ]
  },
  {
   "cell_type": "code",
   "execution_count": 114,
   "id": "2c1f6067",
   "metadata": {},
   "outputs": [],
   "source": [
    "# Import modules\n",
    "import pandas as pd\n",
    "import geopandas as gpd\n",
    "import matplotlib.pyplot as plt"
   ]
  },
  {
   "cell_type": "code",
   "execution_count": 6,
   "id": "6b511e98",
   "metadata": {},
   "outputs": [],
   "source": [
    "# Define data filepath\n",
    "pathname = '/path/to/wildfire_data/'\n",
    "\n",
    "# Read data\n",
    "df = gpd.read_file(pathname + 'or_1992-2018.shp') # 'df' stands for DataFrame"
   ]
  },
  {
   "cell_type": "markdown",
   "id": "e8100d85",
   "metadata": {},
   "source": [
    "### Some basic querying"
   ]
  },
  {
   "cell_type": "code",
   "execution_count": 8,
   "id": "6991d39e",
   "metadata": {},
   "outputs": [
    {
     "data": {
      "text/plain": [
       "Index(['OBJECTID', 'FOD_ID', 'FPA_ID', 'SOURCE_SYS', 'SOURCE_S_1',\n",
       "       'NWCG_REPOR', 'NWCG_REP_1', 'NWCG_REP_2', 'SOURCE_REP', 'SOURCE_R_1',\n",
       "       'LOCAL_FIRE', 'LOCAL_INCI', 'FIRE_CODE', 'FIRE_NAME', 'ICS_209_PL',\n",
       "       'ICS_209__1', 'MTBS_ID', 'MTBS_FIRE_', 'COMPLEX_NA', 'FIRE_YEAR',\n",
       "       'DISCOVERY_', 'DISCOVER_1', 'DISCOVER_2', 'NWCG_CAUSE', 'NWCG_GENER',\n",
       "       'NWCG_CAU_1', 'CONT_DATE', 'CONT_DOY', 'CONT_TIME', 'FIRE_SIZE',\n",
       "       'FIRE_SIZE_', 'LATITUDE', 'LONGITUDE', 'OWNER_DESC', 'STATE', 'COUNTY',\n",
       "       'FIPS_CODE', 'FIPS_NAME', 'geometry'],\n",
       "      dtype='object')"
      ]
     },
     "execution_count": 8,
     "metadata": {},
     "output_type": "execute_result"
    }
   ],
   "source": [
    "# Find column labels\n",
    "df.columns"
   ]
  },
  {
   "cell_type": "markdown",
   "id": "cd1a2e99",
   "metadata": {},
   "source": [
    "**Note** that the max length of a shapefile column header is **10 characters**. A full list of columns can be found below:\n",
    "\n",
    "### Column labels\n",
    "\n",
    "\n",
    "FOD_ID = Unique numeric record identifier.\n",
    "\n",
    "FPA_ID = Unique identifier that contains information necessary to track back to the original record in the source dataset.\n",
    "\n",
    "SOURCE_SYSTEM_TYPE = Type of source database or system that the record was drawn from (federal, nonfederal, or interagency).\n",
    "\n",
    "SOURCE_SYSTEM = Name of or other identifier for source database or system that the record was drawn from. See Table 1 in Short (2014), or \\Supplements\\FPA_FOD_source_list.pdf, for a list of sources and their identifier.\n",
    "\n",
    "NWCG_REPORTING_AGENCY = Active National Wildlife Coordinating Group (NWCG) Unit Identifier for the agency preparing the fire report (BIA = Bureau of Indian Affairs, BLM = Bureau of Land Management, BOR = Bureau of Reclamation, DOD = Department of Defense, DOE = Department of Energy, FS = Forest Service, FWS = Fish and Wildlife Service, IA = Interagency Organization, NPS = National Park Service, ST/C&L = State, County, or Local Organization, and TRIBE = Tribal Organization).\n",
    "\n",
    "NWCG_REPORTING_UNIT_ID = Active NWCG Unit Identifier for the unit preparing the fire report.\n",
    "\n",
    "NWCG_REPORTING_UNIT_NAME = Active NWCG Unit Name for the unit preparing the fire report.\n",
    "\n",
    "SOURCE_REPORTING_UNIT = Code for the agency unit preparing the fire report, based on code/name in the source dataset.\n",
    "\n",
    "SOURCE_REPORTING_UNIT_NAME = Name of reporting agency unit preparing the fire report, based on code/name in the source dataset.\n",
    "\n",
    "LOCAL_FIRE_REPORT_ID = Number or code that uniquely identifies an incident report for a particular reporting unit and a particular calendar year.\n",
    "\n",
    "LOCAL_INCIDENT_ID = Number or code that uniquely identifies an incident for a particular local fire management organization within a particular calendar year.\n",
    "\n",
    "FIRE_CODE = Code used within the interagency wildland fire community to track and compile cost information for emergency fire suppression (https://www.firecode.gov/).\n",
    "\n",
    "FIRE_NAME = Name of the incident, from the fire report (primary) or ICS-209 report (secondary).\n",
    "\n",
    "ICS_209_PLUS_INCIDENT_JOIN_ID = Primary identifier needed to join into operational situation reporting data for the incident in the ICS-209-PLUS dataset.\n",
    "\n",
    "ICS_209_PLUS_COMPLEX_JOIN_ID = If part of a complex, secondary identifier potentially needed to join to operational situation reporting data for the incident in the ICS-209-PLUS dataset (2014 and later only).\n",
    "\n",
    "MTBS_ID = Incident identifier, from the MTBS perimeter dataset.\n",
    "\n",
    "MTBS_FIRE_NAME = Name of the incident, from the MTBS perimeter dataset.\n",
    "\n",
    "COMPLEX_NAME = Name of the complex under which the fire was ultimately managed, when discernible.\n",
    "\n",
    "FIRE_YEAR = Calendar year in which the fire was discovered or confirmed to exist.\n",
    "\n",
    "DISCOVERY_DATE = Date on which the fire was discovered or confirmed to exist.\n",
    "\n",
    "DISCOVERY_DOY = Day of year on which the fire was discovered or confirmed to exist.\n",
    "\n",
    "DISCOVERY_TIME = Time of day that the fire was discovered or confirmed to exist.\n",
    "\n",
    "NWCG_CAUSE_CLASSIFICATION = Broad classification of the reason the fire occurred (Human, Natural, Missing data/not specified/undetermined).\n",
    "\n",
    "NWCG_GENERAL_CAUSE = Event or circumstance that started a fire or set the stage for its occurrence (Arson/incendiarism, Debris and open burning, Equipment and vehicle use, Firearms and explosives use, Fireworks, Misuse of fire by a minor, Natural, Power generation/transmission/distribution, Railroad operations and maintenance, Recreation and ceremony, Smoking, Other causes, Missing data/not specified/undetermined).\n",
    "\n",
    "NWCG_CAUSE_AGE_CATEGORY = If cause attributed to children (ages 0-12) or adolescents (13-17), the value for this data element is set to Minor; otherwise null.\n",
    "\n",
    "CONT_DATE = Date on which the fire was declared contained or otherwise controlled (mm/dd/yyyy where mm=month, dd=day, and yyyy=year).\n",
    "\n",
    "CONT_DOY = Day of year on which the fire was declared contained or otherwise controlled.\n",
    "\n",
    "CONT_TIME = Time of day that the fire was declared contained or otherwise controlled (hhmm where hh=hour, mm=minutes).\n",
    "\n",
    "FIRE_SIZE = The estimate of acres within the final perimeter of the fire.\n",
    "\n",
    "FIRE_SIZE_CLASS = Code for fire size based on the number of acres within the final fire perimeter (A=greater than 0 but less than or equal to 0.25 acres, B=0.26-9.9 acres, C=10.0-99.9 acres, D=100-299 acres, E=300 to 999 acres, F=1000 to 4999 acres, and G=5000+ acres).\n",
    "\n",
    "LATITUDE = Latitude (NAD83) for point location of the fire (decimal degrees).\n",
    "\n",
    "LONGITUDE = Longitude (NAD83) for point location of the fire (decimal degrees).\n",
    "\n",
    "OWNER_DESCR = Name of primary owner or entity responsible for managing the land at the point of origin of the fire at the time of the incident.\n",
    "\n",
    "STATE = Two-letter alphabetic code for the state in which the fire burned (or originated), based on the nominal designation in the fire report.\n",
    "\n",
    "COUNTY = County, or equivalent, in which the fire burned (or originated), based on nominal designation in the fire report.\n",
    "\n",
    "FIPS_CODE = Five-digit code from the Federal Information Process Standards (FIPS) publication 6-4 for representation of counties and equivalent entities, based on the nominal designation in the fire report.\n",
    "\n",
    "FIPS_NAME = County name from the FIPS publication 6-4 for representation of counties and equivalent entities, based on the nominal designation in the fire report."
   ]
  },
  {
   "cell_type": "code",
   "execution_count": 11,
   "id": "fed3cd9e",
   "metadata": {},
   "outputs": [
    {
     "data": {
      "text/plain": [
       "OBJECTID       float64\n",
       "FOD_ID           int64\n",
       "FPA_ID          object\n",
       "SOURCE_SYS      object\n",
       "SOURCE_S_1      object\n",
       "NWCG_REPOR      object\n",
       "NWCG_REP_1      object\n",
       "NWCG_REP_2      object\n",
       "SOURCE_REP      object\n",
       "SOURCE_R_1      object\n",
       "LOCAL_FIRE      object\n",
       "LOCAL_INCI      object\n",
       "FIRE_CODE       object\n",
       "FIRE_NAME       object\n",
       "ICS_209_PL      object\n",
       "ICS_209__1      object\n",
       "MTBS_ID         object\n",
       "MTBS_FIRE_      object\n",
       "COMPLEX_NA      object\n",
       "FIRE_YEAR        int64\n",
       "DISCOVERY_      object\n",
       "DISCOVER_1       int64\n",
       "DISCOVER_2      object\n",
       "NWCG_CAUSE      object\n",
       "NWCG_GENER      object\n",
       "NWCG_CAU_1      object\n",
       "CONT_DATE       object\n",
       "CONT_DOY       float64\n",
       "CONT_TIME       object\n",
       "FIRE_SIZE      float64\n",
       "FIRE_SIZE_      object\n",
       "LATITUDE       float64\n",
       "LONGITUDE      float64\n",
       "OWNER_DESC      object\n",
       "STATE           object\n",
       "COUNTY          object\n",
       "FIPS_CODE       object\n",
       "FIPS_NAME       object\n",
       "geometry      geometry\n",
       "dtype: object"
      ]
     },
     "execution_count": 11,
     "metadata": {},
     "output_type": "execute_result"
    }
   ],
   "source": [
    "# Find columns datatypes\n",
    "df.dtypes"
   ]
  },
  {
   "cell_type": "code",
   "execution_count": 18,
   "id": "137ce593",
   "metadata": {},
   "outputs": [
    {
     "data": {
      "text/plain": [
       "count     67042.000000\n",
       "mean        144.878795\n",
       "std        3815.600420\n",
       "min           0.010000\n",
       "25%           0.100000\n",
       "50%           0.100000\n",
       "75%           0.330000\n",
       "max      558198.300000\n",
       "Name: FIRE_SIZE, dtype: float64"
      ]
     },
     "execution_count": 18,
     "metadata": {},
     "output_type": "execute_result"
    }
   ],
   "source": [
    "# Get some stats for numeric columns\n",
    "df['FIRE_SIZE'].describe()"
   ]
  },
  {
   "cell_type": "markdown",
   "id": "ea13bdc3",
   "metadata": {},
   "source": [
    "So it appears that most fires are extremely small (i.e. 75% of wildfire are less than 0.33 acres)"
   ]
  },
  {
   "cell_type": "markdown",
   "id": "5b5d50c1",
   "metadata": {},
   "source": [
    "### Apply filters"
   ]
  },
  {
   "cell_type": "code",
   "execution_count": 138,
   "id": "4415ee5c",
   "metadata": {},
   "outputs": [],
   "source": [
    "# Filter fires larger than 100 acres\n",
    "df_large = df[df['FIRE_SIZE'] > 100]"
   ]
  },
  {
   "cell_type": "code",
   "execution_count": 46,
   "id": "cc3db94c",
   "metadata": {},
   "outputs": [
    {
     "data": {
      "text/plain": [
       "5077.047927022739"
      ]
     },
     "execution_count": 46,
     "metadata": {},
     "output_type": "execute_result"
    }
   ],
   "source": [
    "# Find mean size of wildfires larger than 100 acres\n",
    "df_large['FIRE_SIZE'].mean()"
   ]
  },
  {
   "cell_type": "code",
   "execution_count": 47,
   "id": "83bdb4b2",
   "metadata": {},
   "outputs": [
    {
     "data": {
      "text/plain": [
       "array(['Human', 'Natural', 'Missing data/not specified/undetermined'],\n",
       "      dtype=object)"
      ]
     },
     "execution_count": 47,
     "metadata": {},
     "output_type": "execute_result"
    }
   ],
   "source": [
    "# Find the different cause of large wildfires\n",
    "df_large['NWCG_CAUSE'].unique()"
   ]
  },
  {
   "cell_type": "code",
   "execution_count": 139,
   "id": "720a2389",
   "metadata": {},
   "outputs": [],
   "source": [
    "# Filter fires that were caused by natural causes\n",
    "df_large_natural = df_large[df_large['NWCG_CAUSE'] == 'Natural']"
   ]
  },
  {
   "cell_type": "markdown",
   "id": "f3a6bbdf",
   "metadata": {},
   "source": [
    "### `datetime` functionality"
   ]
  },
  {
   "cell_type": "code",
   "execution_count": 95,
   "id": "50f4602c",
   "metadata": {},
   "outputs": [
    {
     "data": {
      "text/plain": [
       "56       2008/07/02 00:00:00.000\n",
       "89       2000/07/22 00:00:00.000\n",
       "95       2007/08/31 00:00:00.000\n",
       "96       2003/06/29 00:00:00.000\n",
       "109      2007/07/13 00:00:00.000\n",
       "                  ...           \n",
       "67007    2017/08/29 00:00:00.000\n",
       "67008    2011/09/15 00:00:00.000\n",
       "67014    2014/09/16 00:00:00.000\n",
       "67017    2013/08/07 00:00:00.000\n",
       "67022    2016/08/17 00:00:00.000\n",
       "Name: DISCOVERY_, Length: 1164, dtype: object"
      ]
     },
     "execution_count": 95,
     "metadata": {},
     "output_type": "execute_result"
    }
   ],
   "source": [
    "# Find date of discovery\n",
    "df_large_natural['DISCOVERY_']"
   ]
  },
  {
   "cell_type": "markdown",
   "id": "acaadc1a",
   "metadata": {},
   "source": [
    "`pandas` contains extensive capabilities and features for working with time series data. But to access this functionality, we need to convert the datatype of this column from `object` to `datetime64`. "
   ]
  },
  {
   "cell_type": "code",
   "execution_count": 96,
   "id": "6a0bf0e8",
   "metadata": {},
   "outputs": [
    {
     "data": {
      "text/plain": [
       "56      2008-07-02\n",
       "89      2000-07-22\n",
       "95      2007-08-31\n",
       "96      2003-06-29\n",
       "109     2007-07-13\n",
       "           ...    \n",
       "67007   2017-08-29\n",
       "67008   2011-09-15\n",
       "67014   2014-09-16\n",
       "67017   2013-08-07\n",
       "67022   2016-08-17\n",
       "Name: DISCOVERY_, Length: 1164, dtype: datetime64[ns]"
      ]
     },
     "execution_count": 96,
     "metadata": {},
     "output_type": "execute_result"
    }
   ],
   "source": [
    "datetime = pd.to_datetime(df_large_natural['DISCOVERY_'], format='%Y/%m/%d %H:%M:%S.%f')\n",
    "datetime"
   ]
  },
  {
   "cell_type": "code",
   "execution_count": 97,
   "id": "8cc13fd5",
   "metadata": {},
   "outputs": [
    {
     "name": "stderr",
     "output_type": "stream",
     "text": [
      "/opt/anaconda3/envs/lab2/lib/python3.8/site-packages/geopandas/geodataframe.py:1351: SettingWithCopyWarning: \n",
      "A value is trying to be set on a copy of a slice from a DataFrame.\n",
      "Try using .loc[row_indexer,col_indexer] = value instead\n",
      "\n",
      "See the caveats in the documentation: https://pandas.pydata.org/pandas-docs/stable/user_guide/indexing.html#returning-a-view-versus-a-copy\n",
      "  super().__setitem__(key, value)\n"
     ]
    }
   ],
   "source": [
    "df_large_natural['datetime'] = datetime"
   ]
  },
  {
   "cell_type": "code",
   "execution_count": 134,
   "id": "835a9026",
   "metadata": {},
   "outputs": [],
   "source": [
    "# Filter large, natural wildfires in 2016\n",
    "df_large_natural_2016 = df_large_natural[df_large_natural['datetime'].dt.year == 2016]"
   ]
  },
  {
   "cell_type": "markdown",
   "id": "024d57af",
   "metadata": {},
   "source": [
    "### Group by categories"
   ]
  },
  {
   "cell_type": "code",
   "execution_count": 136,
   "id": "ffe84de8",
   "metadata": {},
   "outputs": [],
   "source": [
    "# Find number of large fires in each year (i.e. number of rows in each year)\n",
    "large_fire_count = df_large.iloc[:,0].groupby(df_large_natural['datetime'].dt.year).count()"
   ]
  },
  {
   "cell_type": "code",
   "execution_count": 137,
   "id": "68af9ee3",
   "metadata": {},
   "outputs": [],
   "source": [
    "# Find acres of wildfire for each year\n",
    "large_fire_area = df_large['FIRE_SIZE'].groupby(df_large_natural['datetime'].dt.year).sum()"
   ]
  },
  {
   "cell_type": "markdown",
   "id": "bcf75fae",
   "metadata": {},
   "source": [
    "### Plot"
   ]
  },
  {
   "cell_type": "code",
   "execution_count": 133,
   "id": "5913ad23",
   "metadata": {},
   "outputs": [
    {
     "data": {
      "image/png": "[encoded data removed]",
      "text/plain": [
       "<Figure size 720x576 with 2 Axes>"
      ]
     },
     "metadata": {
      "needs_background": "light"
     },
     "output_type": "display_data"
    }
   ],
   "source": [
    "# Plot number and acres of wildfire for each year\n",
    "fig, (ax1, ax2) = plt.subplots(nrows=2, ncols=1, figsize=(10,8), sharex=True)\n",
    "ax1.plot(large_fire_count, lw=2)\n",
    "ax1.set_ylabel('Number of fires (>100 acres)', fontsize=14)\n",
    "ax1.tick_params(axis='x', labelsize=14)\n",
    "ax1.tick_params(axis='y', labelsize=14)\n",
    "ax1.grid(ls='dotted', lw=2, alpha=0.5)\n",
    "\n",
    "ax2.plot(large_fire_area, lw=2)\n",
    "ax2.set_ylabel('Area of fires (>100 acres)', fontsize=14)\n",
    "ax2.tick_params(axis='x', labelsize=14)\n",
    "ax2.tick_params(axis='y', labelsize=14)\n",
    "ax2.grid(ls='dotted', lw=2, alpha=0.5)"
   ]
  },
  {
   "cell_type": "markdown",
   "id": "6eed80ef",
   "metadata": {},
   "source": [
    "*********\n",
    "\n",
    "# Question 1 (20 points): \n",
    "\n",
    "Write a script (either in Spyder or as a Jupyter Notebook) to answer the following questions:\n",
    "\n",
    "* a) Which Oregon county had the most **human** caused wildfires **>50 acres**?\n",
    "* b) Which month had the most **natural** caused wildfires **>100 acres**?\n",
    "* c) How many fires **>200 acres** have an undetermined cause (e.g. `Missing data/not specified/undetermined`?\n",
    "* d) What is the name, date, and county of the largest sized fire?\n",
    "* e) How many wildfires in Lane County?\n",
    "\n",
    "**************"
   ]
  },
  {
   "cell_type": "markdown",
   "id": "1ada64ff",
   "metadata": {
    "deletable": false
   },
   "source": [
    "## Lab 2b: Where are wildfires occurring in Lane County Oregon?\n",
    "\n",
    "So we have established that there were some fires in Lane County between 1992 and 2018. But what if we wanted to know more about where they were and how many people might have been affected? We can do this using Census Bureau data which provides population estimates at relatively small spatial scales. \n",
    "\n",
    "**Objectives:**\n",
    "   * We will explore Census Bureau data using <code>cenpy</code>.\n",
    "   * Learn about Census Bureau data variables and geographic units\n",
    "   * Compute how many people were impacted by wildfires in Lane County, Oregon using just a few lines of code\n",
    "   * Calculate some statistics using the <code>pandas</code> library\n",
    "   * Export our data as a shapefile using <code>geopandas</code> \n",
    "   * Visualize our data in QGIS\n",
    "\n",
    "We will be relying heavily on <code>cenpy</code> which is a package that enables automatic discovery and download of US Census Bureau data. <code>cenpy</code> formats Census data as a <code>geopandas</code> DataFrame for analysis in Python or export to GIS software such as QGIS. More information about this package can be found [here](https://nbviewer.org/github/ljwolf/cenpy/blob/master/notebooks/product-api.ipynb?flush_cache=true), [here](https://nbviewer.org/github/cenpy-devs/cenpy/blob/master/notebooks/segregation.ipynb), and the [GitHub repo](https://github.com/cenpy-devs/cenpy)."
   ]
  },
  {
   "cell_type": "markdown",
   "id": "4cd017c6",
   "metadata": {},
   "source": [
    "### Query Census data\n",
    "\n",
    "Now we can start the assignment. As a first example, let's suppose we're interested in unemployment at the tract level in Lane County, Oregon. To download data, we first need to identify the relevant product and variables of interest to us. We will use data from the American Community Survey (ACS) product which provides social and economic information every year but, unlike the Decenniel Survey, only represents a sample (about 3.5 million) of US households. "
   ]
  },
  {
   "cell_type": "code",
   "execution_count": 2,
   "id": "63d87c23",
   "metadata": {},
   "outputs": [],
   "source": [
    "# Import modules\n",
    "from cenpy import products\n",
    "import matplotlib.pyplot as plt\n",
    "\n",
    "# Define product\n",
    "acs = products.ACS(2019)"
   ]
  },
  {
   "cell_type": "markdown",
   "id": "31d35fc9",
   "metadata": {},
   "source": [
    "Now we need a list of Census variables. One way to do this is to browse the ACS documentation which can be found here: https://api.census.gov/data/2019/acs/acs5/variables.html. The other is to search the tables using keywords and <code>cenpy</code>."
   ]
  },
  {
   "cell_type": "code",
   "execution_count": 3,
   "id": "d530c837",
   "metadata": {
    "scrolled": true
   },
   "outputs": [
    {
     "data": {
      "text/html": [
       "<div>\n",
       "<style scoped>\n",
       "    .dataframe tbody tr th:only-of-type {\n",
       "        vertical-align: middle;\n",
       "    }\n",
       "\n",
       "    .dataframe tbody tr th {\n",
       "        vertical-align: top;\n",
       "    }\n",
       "\n",
       "    .dataframe thead th {\n",
       "        text-align: right;\n",
       "    }\n",
       "</style>\n",
       "<table border=\"1\" class=\"dataframe\">\n",
       "  <thead>\n",
       "    <tr style=\"text-align: right;\">\n",
       "      <th></th>\n",
       "      <th>description</th>\n",
       "      <th>columns</th>\n",
       "    </tr>\n",
       "    <tr>\n",
       "      <th>table_name</th>\n",
       "      <th></th>\n",
       "      <th></th>\n",
       "    </tr>\n",
       "  </thead>\n",
       "  <tbody>\n",
       "    <tr>\n",
       "      <th>B10058</th>\n",
       "      <td>EMPLOYMENT STATUS OF GRANDPARENTS LIVING WITH ...</td>\n",
       "      <td>[B10058_001E, B10058_002E, B10058_003E, B10058...</td>\n",
       "    </tr>\n",
       "    <tr>\n",
       "      <th>B14005</th>\n",
       "      <td>SEX BY SCHOOL ENROLLMENT BY EDUCATIONAL ATTAIN...</td>\n",
       "      <td>[B14005_001E, B14005_002E, B14005_003E, B14005...</td>\n",
       "    </tr>\n",
       "    <tr>\n",
       "      <th>B16010</th>\n",
       "      <td>EDUCATIONAL ATTAINMENT AND EMPLOYMENT STATUS B...</td>\n",
       "      <td>[B16010_001E, B16010_002E, B16010_003E, B16010...</td>\n",
       "    </tr>\n",
       "    <tr>\n",
       "      <th>B17005</th>\n",
       "      <td>POVERTY STATUS IN THE PAST 12 MONTHS OF INDIVI...</td>\n",
       "      <td>[B17005_001E, B17005_002E, B17005_003E, B17005...</td>\n",
       "    </tr>\n",
       "    <tr>\n",
       "      <th>B19053</th>\n",
       "      <td>SELF-EMPLOYMENT INCOME IN THE PAST 12 MONTHS F...</td>\n",
       "      <td>[B19053_001E, B19053_002E, B19053_003E]</td>\n",
       "    </tr>\n",
       "    <tr>\n",
       "      <th>B19063</th>\n",
       "      <td>AGGREGATE SELF-EMPLOYMENT INCOME IN THE PAST 1...</td>\n",
       "      <td>[B19063_001E]</td>\n",
       "    </tr>\n",
       "    <tr>\n",
       "      <th>B21005</th>\n",
       "      <td>AGE BY VETERAN STATUS BY EMPLOYMENT STATUS FOR...</td>\n",
       "      <td>[B21005_001E, B21005_002E, B21005_003E, B21005...</td>\n",
       "    </tr>\n",
       "    <tr>\n",
       "      <th>B23001</th>\n",
       "      <td>SEX BY AGE BY EMPLOYMENT STATUS FOR THE POPULA...</td>\n",
       "      <td>[B23001_001E, B23001_002E, B23001_003E, B23001...</td>\n",
       "    </tr>\n",
       "    <tr>\n",
       "      <th>B23003</th>\n",
       "      <td>PRESENCE OF OWN CHILDREN UNDER 18 YEARS BY AGE...</td>\n",
       "      <td>[B23003_001E, B23003_002E, B23003_003E, B23003...</td>\n",
       "    </tr>\n",
       "    <tr>\n",
       "      <th>B23006</th>\n",
       "      <td>EDUCATIONAL ATTAINMENT BY EMPLOYMENT STATUS FO...</td>\n",
       "      <td>[B23006_001E, B23006_002E, B23006_003E, B23006...</td>\n",
       "    </tr>\n",
       "    <tr>\n",
       "      <th>B23007</th>\n",
       "      <td>PRESENCE OF OWN CHILDREN UNDER 18 YEARS BY FAM...</td>\n",
       "      <td>[B23007_001E, B23007_002E, B23007_003E, B23007...</td>\n",
       "    </tr>\n",
       "    <tr>\n",
       "      <th>B23008</th>\n",
       "      <td>AGE OF OWN CHILDREN UNDER 18 YEARS IN FAMILIES...</td>\n",
       "      <td>[B23008_001E, B23008_002E, B23008_003E, B23008...</td>\n",
       "    </tr>\n",
       "    <tr>\n",
       "      <th>B23024</th>\n",
       "      <td>POVERTY STATUS IN THE PAST 12 MONTHS BY DISABI...</td>\n",
       "      <td>[B23024_001E, B23024_002E, B23024_003E, B23024...</td>\n",
       "    </tr>\n",
       "    <tr>\n",
       "      <th>B23025</th>\n",
       "      <td>EMPLOYMENT STATUS FOR THE POPULATION 16 YEARS ...</td>\n",
       "      <td>[B23025_001E, B23025_002E, B23025_003E, B23025...</td>\n",
       "    </tr>\n",
       "    <tr>\n",
       "      <th>B26114</th>\n",
       "      <td>GROUP QUARTERS TYPE (3 TYPES) BY EMPLOYMENT ST...</td>\n",
       "      <td>[B26114_001E, B26114_002E, B26114_003E, B26114...</td>\n",
       "    </tr>\n",
       "    <tr>\n",
       "      <th>B26214</th>\n",
       "      <td>GROUP QUARTERS TYPE (5 TYPES) BY EMPLOYMENT ST...</td>\n",
       "      <td>[B26214_001E, B26214_002E, B26214_003E, B26214...</td>\n",
       "    </tr>\n",
       "    <tr>\n",
       "      <th>B27011</th>\n",
       "      <td>HEALTH INSURANCE COVERAGE STATUS AND TYPE BY E...</td>\n",
       "      <td>[B27011_001E, B27011_002E, B27011_003E, B27011...</td>\n",
       "    </tr>\n",
       "    <tr>\n",
       "      <th>B99231</th>\n",
       "      <td>ALLOCATION OF EMPLOYMENT STATUS FOR THE POPULA...</td>\n",
       "      <td>[B99231_001E, B99231_002E, B99231_003E]</td>\n",
       "    </tr>\n",
       "    <tr>\n",
       "      <th>C18120</th>\n",
       "      <td>EMPLOYMENT STATUS BY DISABILITY STATUS</td>\n",
       "      <td>[C18120_001E, C18120_002E, C18120_003E, C18120...</td>\n",
       "    </tr>\n",
       "  </tbody>\n",
       "</table>\n",
       "</div>"
      ],
      "text/plain": [
       "                                                  description  \\\n",
       "table_name                                                      \n",
       "B10058      EMPLOYMENT STATUS OF GRANDPARENTS LIVING WITH ...   \n",
       "B14005      SEX BY SCHOOL ENROLLMENT BY EDUCATIONAL ATTAIN...   \n",
       "B16010      EDUCATIONAL ATTAINMENT AND EMPLOYMENT STATUS B...   \n",
       "B17005      POVERTY STATUS IN THE PAST 12 MONTHS OF INDIVI...   \n",
       "B19053      SELF-EMPLOYMENT INCOME IN THE PAST 12 MONTHS F...   \n",
       "B19063      AGGREGATE SELF-EMPLOYMENT INCOME IN THE PAST 1...   \n",
       "B21005      AGE BY VETERAN STATUS BY EMPLOYMENT STATUS FOR...   \n",
       "B23001      SEX BY AGE BY EMPLOYMENT STATUS FOR THE POPULA...   \n",
       "B23003      PRESENCE OF OWN CHILDREN UNDER 18 YEARS BY AGE...   \n",
       "B23006      EDUCATIONAL ATTAINMENT BY EMPLOYMENT STATUS FO...   \n",
       "B23007      PRESENCE OF OWN CHILDREN UNDER 18 YEARS BY FAM...   \n",
       "B23008      AGE OF OWN CHILDREN UNDER 18 YEARS IN FAMILIES...   \n",
       "B23024      POVERTY STATUS IN THE PAST 12 MONTHS BY DISABI...   \n",
       "B23025      EMPLOYMENT STATUS FOR THE POPULATION 16 YEARS ...   \n",
       "B26114      GROUP QUARTERS TYPE (3 TYPES) BY EMPLOYMENT ST...   \n",
       "B26214      GROUP QUARTERS TYPE (5 TYPES) BY EMPLOYMENT ST...   \n",
       "B27011      HEALTH INSURANCE COVERAGE STATUS AND TYPE BY E...   \n",
       "B99231      ALLOCATION OF EMPLOYMENT STATUS FOR THE POPULA...   \n",
       "C18120                 EMPLOYMENT STATUS BY DISABILITY STATUS   \n",
       "\n",
       "                                                      columns  \n",
       "table_name                                                     \n",
       "B10058      [B10058_001E, B10058_002E, B10058_003E, B10058...  \n",
       "B14005      [B14005_001E, B14005_002E, B14005_003E, B14005...  \n",
       "B16010      [B16010_001E, B16010_002E, B16010_003E, B16010...  \n",
       "B17005      [B17005_001E, B17005_002E, B17005_003E, B17005...  \n",
       "B19053                [B19053_001E, B19053_002E, B19053_003E]  \n",
       "B19063                                          [B19063_001E]  \n",
       "B21005      [B21005_001E, B21005_002E, B21005_003E, B21005...  \n",
       "B23001      [B23001_001E, B23001_002E, B23001_003E, B23001...  \n",
       "B23003      [B23003_001E, B23003_002E, B23003_003E, B23003...  \n",
       "B23006      [B23006_001E, B23006_002E, B23006_003E, B23006...  \n",
       "B23007      [B23007_001E, B23007_002E, B23007_003E, B23007...  \n",
       "B23008      [B23008_001E, B23008_002E, B23008_003E, B23008...  \n",
       "B23024      [B23024_001E, B23024_002E, B23024_003E, B23024...  \n",
       "B23025      [B23025_001E, B23025_002E, B23025_003E, B23025...  \n",
       "B26114      [B26114_001E, B26114_002E, B26114_003E, B26114...  \n",
       "B26214      [B26214_001E, B26214_002E, B26214_003E, B26214...  \n",
       "B27011      [B27011_001E, B27011_002E, B27011_003E, B27011...  \n",
       "B99231                [B99231_001E, B99231_002E, B99231_003E]  \n",
       "C18120      [C18120_001E, C18120_002E, C18120_003E, C18120...  "
      ]
     },
     "execution_count": 3,
     "metadata": {},
     "output_type": "execute_result"
    }
   ],
   "source": [
    "# Print list of tables\n",
    "acs.filter_tables('EMPLOYMENT', by='description')"
   ]
  },
  {
   "cell_type": "markdown",
   "id": "53976aa1",
   "metadata": {},
   "source": [
    "In our case we are interested in the variable **B23025** which contains employment status for the population that is 16 years and over. "
   ]
  },
  {
   "cell_type": "code",
   "execution_count": 4,
   "id": "d11aa24f",
   "metadata": {},
   "outputs": [
    {
     "data": {
      "text/html": [
       "<div>\n",
       "<style scoped>\n",
       "    .dataframe tbody tr th:only-of-type {\n",
       "        vertical-align: middle;\n",
       "    }\n",
       "\n",
       "    .dataframe tbody tr th {\n",
       "        vertical-align: top;\n",
       "    }\n",
       "\n",
       "    .dataframe thead th {\n",
       "        text-align: right;\n",
       "    }\n",
       "</style>\n",
       "<table border=\"1\" class=\"dataframe\">\n",
       "  <thead>\n",
       "    <tr style=\"text-align: right;\">\n",
       "      <th></th>\n",
       "      <th>label</th>\n",
       "      <th>concept</th>\n",
       "      <th>predicateType</th>\n",
       "      <th>group</th>\n",
       "      <th>limit</th>\n",
       "      <th>predicateOnly</th>\n",
       "      <th>attributes</th>\n",
       "      <th>required</th>\n",
       "    </tr>\n",
       "  </thead>\n",
       "  <tbody>\n",
       "    <tr>\n",
       "      <th>B23025_004E</th>\n",
       "      <td>Estimate!!Total:!!In labor force:!!Civilian la...</td>\n",
       "      <td>EMPLOYMENT STATUS FOR THE POPULATION 16 YEARS ...</td>\n",
       "      <td>int</td>\n",
       "      <td>B23025</td>\n",
       "      <td>0</td>\n",
       "      <td>NaN</td>\n",
       "      <td>B23025_004EA,B23025_004M,B23025_004MA</td>\n",
       "      <td>NaN</td>\n",
       "    </tr>\n",
       "    <tr>\n",
       "      <th>B23025_005E</th>\n",
       "      <td>Estimate!!Total:!!In labor force:!!Civilian la...</td>\n",
       "      <td>EMPLOYMENT STATUS FOR THE POPULATION 16 YEARS ...</td>\n",
       "      <td>int</td>\n",
       "      <td>B23025</td>\n",
       "      <td>0</td>\n",
       "      <td>NaN</td>\n",
       "      <td>B23025_005EA,B23025_005M,B23025_005MA</td>\n",
       "      <td>NaN</td>\n",
       "    </tr>\n",
       "    <tr>\n",
       "      <th>B23025_003E</th>\n",
       "      <td>Estimate!!Total:!!In labor force:!!Civilian la...</td>\n",
       "      <td>EMPLOYMENT STATUS FOR THE POPULATION 16 YEARS ...</td>\n",
       "      <td>int</td>\n",
       "      <td>B23025</td>\n",
       "      <td>0</td>\n",
       "      <td>NaN</td>\n",
       "      <td>B23025_003EA,B23025_003M,B23025_003MA</td>\n",
       "      <td>NaN</td>\n",
       "    </tr>\n",
       "    <tr>\n",
       "      <th>B23025_002E</th>\n",
       "      <td>Estimate!!Total:!!In labor force:</td>\n",
       "      <td>EMPLOYMENT STATUS FOR THE POPULATION 16 YEARS ...</td>\n",
       "      <td>int</td>\n",
       "      <td>B23025</td>\n",
       "      <td>0</td>\n",
       "      <td>NaN</td>\n",
       "      <td>B23025_002EA,B23025_002M,B23025_002MA</td>\n",
       "      <td>NaN</td>\n",
       "    </tr>\n",
       "    <tr>\n",
       "      <th>B23025_001E</th>\n",
       "      <td>Estimate!!Total:</td>\n",
       "      <td>EMPLOYMENT STATUS FOR THE POPULATION 16 YEARS ...</td>\n",
       "      <td>int</td>\n",
       "      <td>B23025</td>\n",
       "      <td>0</td>\n",
       "      <td>NaN</td>\n",
       "      <td>B23025_001EA,B23025_001M,B23025_001MA</td>\n",
       "      <td>NaN</td>\n",
       "    </tr>\n",
       "    <tr>\n",
       "      <th>B23025_007E</th>\n",
       "      <td>Estimate!!Total:!!Not in labor force</td>\n",
       "      <td>EMPLOYMENT STATUS FOR THE POPULATION 16 YEARS ...</td>\n",
       "      <td>int</td>\n",
       "      <td>B23025</td>\n",
       "      <td>0</td>\n",
       "      <td>NaN</td>\n",
       "      <td>B23025_007EA,B23025_007M,B23025_007MA</td>\n",
       "      <td>NaN</td>\n",
       "    </tr>\n",
       "    <tr>\n",
       "      <th>B23025_006E</th>\n",
       "      <td>Estimate!!Total:!!In labor force:!!Armed Forces</td>\n",
       "      <td>EMPLOYMENT STATUS FOR THE POPULATION 16 YEARS ...</td>\n",
       "      <td>int</td>\n",
       "      <td>B23025</td>\n",
       "      <td>0</td>\n",
       "      <td>NaN</td>\n",
       "      <td>B23025_006EA,B23025_006M,B23025_006MA</td>\n",
       "      <td>NaN</td>\n",
       "    </tr>\n",
       "  </tbody>\n",
       "</table>\n",
       "</div>"
      ],
      "text/plain": [
       "                                                         label  \\\n",
       "B23025_004E  Estimate!!Total:!!In labor force:!!Civilian la...   \n",
       "B23025_005E  Estimate!!Total:!!In labor force:!!Civilian la...   \n",
       "B23025_003E  Estimate!!Total:!!In labor force:!!Civilian la...   \n",
       "B23025_002E                  Estimate!!Total:!!In labor force:   \n",
       "B23025_001E                                   Estimate!!Total:   \n",
       "B23025_007E               Estimate!!Total:!!Not in labor force   \n",
       "B23025_006E    Estimate!!Total:!!In labor force:!!Armed Forces   \n",
       "\n",
       "                                                       concept predicateType  \\\n",
       "B23025_004E  EMPLOYMENT STATUS FOR THE POPULATION 16 YEARS ...           int   \n",
       "B23025_005E  EMPLOYMENT STATUS FOR THE POPULATION 16 YEARS ...           int   \n",
       "B23025_003E  EMPLOYMENT STATUS FOR THE POPULATION 16 YEARS ...           int   \n",
       "B23025_002E  EMPLOYMENT STATUS FOR THE POPULATION 16 YEARS ...           int   \n",
       "B23025_001E  EMPLOYMENT STATUS FOR THE POPULATION 16 YEARS ...           int   \n",
       "B23025_007E  EMPLOYMENT STATUS FOR THE POPULATION 16 YEARS ...           int   \n",
       "B23025_006E  EMPLOYMENT STATUS FOR THE POPULATION 16 YEARS ...           int   \n",
       "\n",
       "              group limit predicateOnly  \\\n",
       "B23025_004E  B23025     0           NaN   \n",
       "B23025_005E  B23025     0           NaN   \n",
       "B23025_003E  B23025     0           NaN   \n",
       "B23025_002E  B23025     0           NaN   \n",
       "B23025_001E  B23025     0           NaN   \n",
       "B23025_007E  B23025     0           NaN   \n",
       "B23025_006E  B23025     0           NaN   \n",
       "\n",
       "                                        attributes required  \n",
       "B23025_004E  B23025_004EA,B23025_004M,B23025_004MA      NaN  \n",
       "B23025_005E  B23025_005EA,B23025_005M,B23025_005MA      NaN  \n",
       "B23025_003E  B23025_003EA,B23025_003M,B23025_003MA      NaN  \n",
       "B23025_002E  B23025_002EA,B23025_002M,B23025_002MA      NaN  \n",
       "B23025_001E  B23025_001EA,B23025_001M,B23025_001MA      NaN  \n",
       "B23025_007E  B23025_007EA,B23025_007M,B23025_007MA      NaN  \n",
       "B23025_006E  B23025_006EA,B23025_006M,B23025_006MA      NaN  "
      ]
     },
     "execution_count": 4,
     "metadata": {},
     "output_type": "execute_result"
    }
   ],
   "source": [
    "# Print list of variables\n",
    "acs.filter_variables('B23025')"
   ]
  },
  {
   "cell_type": "markdown",
   "id": "45e651a0",
   "metadata": {},
   "source": [
    "After identifying relevant variables, we can download the data and compute variables at the tract level which is the third smallest geographic unit in Census data. "
   ]
  },
  {
   "cell_type": "markdown",
   "id": "b28aafba",
   "metadata": {},
   "source": [
    "<div>\n",
    "<img src=\"images/census_geographic_units.png\" width=\"800\"/>\n",
    "</div>"
   ]
  },
  {
   "cell_type": "markdown",
   "id": "4cc5068b",
   "metadata": {},
   "source": [
    "### Download Census data and compute statistics"
   ]
  },
  {
   "cell_type": "code",
   "execution_count": 5,
   "id": "0920a66a",
   "metadata": {},
   "outputs": [
    {
     "name": "stderr",
     "output_type": "stream",
     "text": [
      "/opt/anaconda3/envs/lab2/lib/python3.8/site-packages/pyproj/crs/crs.py:131: FutureWarning: '+init=<authority>:<code>' syntax is deprecated. '<authority>:<code>' is the preferred initialization method. When making the change, be mindful of axis order changes: https://pyproj4.github.io/pyproj/stable/gotchas.html#axis-order-changes-in-proj-6\n",
      "  in_crs_string = _prepare_from_proj_string(in_crs_string)\n",
      "/opt/anaconda3/envs/lab2/lib/python3.8/site-packages/pyproj/crs/crs.py:131: FutureWarning: '+init=<authority>:<code>' syntax is deprecated. '<authority>:<code>' is the preferred initialization method. When making the change, be mindful of axis order changes: https://pyproj4.github.io/pyproj/stable/gotchas.html#axis-order-changes-in-proj-6\n",
      "  in_crs_string = _prepare_from_proj_string(in_crs_string)\n",
      "/opt/anaconda3/envs/lab2/lib/python3.8/site-packages/cenpy/products.py:762: FutureWarning: The `op` parameter is deprecated and will be removed in a future release. Please use the `predicate` parameter instead.\n",
      "  return self._from_name(county, variables, level, \"Counties\", **kwargs)\n"
     ]
    }
   ],
   "source": [
    "# Download data\n",
    "lane = products.ACS(2019).from_county('Lane County, OR', level='tract',\n",
    "                                        variables=['B23025_003E', 'B23025_005E']) # don't worry about the deprecation message!\n",
    "\n",
    "# Compute unemployment percentage\n",
    "lane['percent_unemployed'] = lane['B23025_005E'] / lane['B23025_003E'] * 100"
   ]
  },
  {
   "cell_type": "markdown",
   "id": "1bcc68d2",
   "metadata": {},
   "source": [
    "Now let’s look at some summary statistics."
   ]
  },
  {
   "cell_type": "code",
   "execution_count": 6,
   "id": "19dd961b",
   "metadata": {},
   "outputs": [
    {
     "data": {
      "text/plain": [
       "count    86.000000\n",
       "mean      6.914352\n",
       "std       3.492321\n",
       "min       1.193565\n",
       "25%       4.665387\n",
       "50%       6.242081\n",
       "75%       8.644192\n",
       "max      24.157303\n",
       "Name: percent_unemployed, dtype: float64"
      ]
     },
     "execution_count": 6,
     "metadata": {},
     "output_type": "execute_result"
    }
   ],
   "source": [
    "# Caluclate some stats\n",
    "lane['percent_unemployed'].describe()"
   ]
  },
  {
   "cell_type": "markdown",
   "id": "0c8d7b0c",
   "metadata": {},
   "source": [
    "### Plot\n",
    "\n",
    "We can also plot this easily."
   ]
  },
  {
   "cell_type": "code",
   "execution_count": 7,
   "id": "85af800b",
   "metadata": {},
   "outputs": [
    {
     "data": {
      "text/plain": [
       "<AxesSubplot:>"
      ]
     },
     "execution_count": 7,
     "metadata": {},
     "output_type": "execute_result"
    },
    {
     "data": {
      "image/png": "[encoded data removed]",
      "text/plain": [
       "<Figure size 720x720 with 1 Axes>"
      ]
     },
     "metadata": {
      "needs_background": "light"
     },
     "output_type": "display_data"
    }
   ],
   "source": [
    "# Plot map\n",
    "f, ax = plt.subplots(1, 1, figsize=(10,10))\n",
    "lane.plot('percent_unemployed', ax=ax, cmap='plasma')"
   ]
  },
  {
   "cell_type": "markdown",
   "id": "3b2a3a25",
   "metadata": {},
   "source": [
    "### Save to file\n",
    "\n",
    "But it is sometimes useful to export the data for viewing in GIS software."
   ]
  },
  {
   "cell_type": "code",
   "execution_count": null,
   "id": "8869237a",
   "metadata": {},
   "outputs": [],
   "source": [
    "# Save to file\n",
    "lane.to_file('/path/to/lane_unemployment.shp') # Note that you will have to change the path to your student folder"
   ]
  },
  {
   "cell_type": "markdown",
   "id": "3b842bb8",
   "metadata": {},
   "source": [
    "### Visualize data in QGIS\n",
    "\n",
    "Open QGIS and install the **QuickMapServices** plugin which provides some basemaps for locating our data. If you haven't installed QGIS yet, you can so from the link here: https://qgis.org/en/site/forusers/download.html.\n",
    "\n",
    "* **Plugins** --> **Manage and Install Plugins**\n",
    "* Search for **QuickMapServices** and **Install Plugin**\n",
    "\n",
    "When the plugin is installed, we will display the OpenStreetMap (OSM) basemap in our QGIS workspace. OSM is a free editable geographic database of the world. \n",
    "\n",
    "* **Web** --> **QuickMapServices** --> **OSM** --> **OSM Standard**\n",
    "\n",
    "Add *lane_unemployment.shp* to your QGIS workspace and change the Symbology of the layer so that the unemployment data is represented by a colorscale."
   ]
  },
  {
   "cell_type": "markdown",
   "id": "6276c406",
   "metadata": {},
   "source": [
    "*********\n",
    "\n",
    "### Question 2 (20 points): \n",
    "* a) Write a script (either in Spyder or as a Jupyter Notebook) to produce your own chloropleth map for a city, county or state showing a Census variable (or derived variable) of your choice. *Note*: *if your map represents a state, use county level Census data, if your map represents a county or city, use tract or block group level data*.\n",
    "* b) Export your data as a shapefile, import the shapefile into QGIS, edit the map so it looks nice and save as a .png file.\n",
    "\n",
    "### Task 3 (10 points):\n",
    "* a) Make a new Jupyter Notebook that includes your code (for both Lab 2a and 2b), your map, and a few sentences about what your map shows. \n",
    "* b) Push your answers notebook to GitHub using instructions from Lab 1\n",
    "* c) Also upload your answers as a <code>.pdf</code> to Canvas\n",
    "\n",
    "**************"
   ]
  },
  {
   "cell_type": "markdown",
   "id": "9533055f",
   "metadata": {},
   "source": []
  }
 ],
 "metadata": {
  "kernelspec": {
   "display_name": "Python 3 (ipykernel)",
   "language": "python",
   "name": "python3"
  },
  "language_info": {
   "codemirror_mode": {
    "name": "ipython",
    "version": 3
   },
   "file_extension": ".py",
   "mimetype": "text/x-python",
   "name": "python",
   "nbconvert_exporter": "python",
   "pygments_lexer": "ipython3",
   "version": "3.8.12"
  }
 },
 "nbformat": 4,
 "nbformat_minor": 5
}
