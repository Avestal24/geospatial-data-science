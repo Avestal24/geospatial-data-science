{
 "cells": [
  {
   "cell_type": "code",
   "execution_count": 1,
   "id": "15ae2c7c",
   "metadata": {},
   "outputs": [],
   "source": [
    "# Importing the modules\n",
    "import pandas as pd\n",
    "import geopandas as gpd\n",
    "import matplotlib.pyplot as plt"
   ]
  },
  {
   "cell_type": "code",
   "execution_count": 2,
   "id": "baa90e48",
   "metadata": {},
   "outputs": [],
   "source": [
    "# Define data filepath\n",
    "pathname = '/Users/Lumin/geospatial-data-science/labs/lab2/data/lab2'\n",
    "\n",
    "# Read data\n",
    "df = gpd.read_file(pathname + '/or_1992-2018.shp') # 'df' stands for DataFrame"
   ]
  },
  {
   "cell_type": "code",
   "execution_count": 48,
   "id": "3059feb2",
   "metadata": {},
   "outputs": [],
   "source": [
    "df_small = df[df['FIRE_SIZE'] > 50]\n",
    "df_large = df[df['FIRE_SIZE']> 100]\n",
    "df_xllarge = df[df['FIRE_SIZE']>200]\n",
    "df_small_human = df_small[df_small['NWCG_CAUSE'] == 'Human'].copy()\n",
    "df_large_natural = df_large[df_large['NWCG_CAUSE'] == 'Natural'].copy()\n",
    "df_xllarge_unknown = df_xllarge[df_xllarge['NWCG_CAUSE'] == 'Missing data/not specified/undetermined']"
   ]
  },
  {
   "cell_type": "code",
   "execution_count": 47,
   "id": "ef664e60",
   "metadata": {},
   "outputs": [],
   "source": [
    "datetime = pd.to_datetime(df_large_natural['DISCOVERY_'], format='%Y/%m/%d %H:%M:%S.%f')\n",
    "# datetime"
   ]
  },
  {
   "cell_type": "code",
   "execution_count": 45,
   "id": "1fcc0810",
   "metadata": {},
   "outputs": [],
   "source": [
    "df_large_natural['datetime'] = datetime\n",
    "df_large_natural_2016 = df_large_natural[df_large_natural['datetime'].dt.year == 2016]\n",
    "# df_large_natural_2016"
   ]
  },
  {
   "cell_type": "code",
   "execution_count": 46,
   "id": "5d3d9c52",
   "metadata": {
    "scrolled": false
   },
   "outputs": [],
   "source": [
    "df_large_month = df_large.groupby(df_large_natural['datetime'].dt.month).count()\n",
    "# df_large_month"
   ]
  },
  {
   "cell_type": "code",
   "execution_count": 43,
   "id": "e297829c",
   "metadata": {},
   "outputs": [],
   "source": [
    "#df_small_human['DISCOVERY_']"
   ]
  },
  {
   "cell_type": "code",
   "execution_count": 85,
   "id": "49751615",
   "metadata": {},
   "outputs": [
    {
     "data": {
      "text/plain": [
       "OBJECTID                                          1578392.0\n",
       "FOD_ID                                            201508655\n",
       "FPA_ID                                             W-649635\n",
       "SOURCE_SYS                                              FED\n",
       "SOURCE_S_1                                         DOI-WFMI\n",
       "NWCG_REPOR                                              BLM\n",
       "NWCG_REP_1                                          USORVAD\n",
       "NWCG_REP_2                                    Vale District\n",
       "SOURCE_REP                                            ORVAD\n",
       "SOURCE_R_1                                    Vale District\n",
       "LOCAL_FIRE                                             None\n",
       "LOCAL_INCI                                             None\n",
       "FIRE_CODE                                              G1HG\n",
       "FIRE_NAME                                         LONG DRAW\n",
       "ICS_209_PL                     2012_OR-VAD-000067_LONG DRAW\n",
       "ICS_209__1                                             None\n",
       "MTBS_ID                               OR4239211789420120708\n",
       "MTBS_FIRE_                                        LONG DRAW\n",
       "COMPLEX_NA                                             None\n",
       "FIRE_YEAR                                              2012\n",
       "DISCOVERY_                          2012/07/08 00:00:00.000\n",
       "DISCOVER_1                                              190\n",
       "DISCOVER_2                                             1800\n",
       "NWCG_CAUSE                                          Natural\n",
       "NWCG_GENER                                          Natural\n",
       "NWCG_CAU_1                                             None\n",
       "CONT_DATE                           2012/07/30 00:00:00.000\n",
       "CONT_DOY                                              212.0\n",
       "CONT_TIME                                              0830\n",
       "FIRE_SIZE                                          558198.3\n",
       "FIRE_SIZE_                                                G\n",
       "LATITUDE                                          42.391894\n",
       "LONGITUDE                                       -117.893687\n",
       "OWNER_DESC                                              BLM\n",
       "STATE                                                    OR\n",
       "COUNTY                                              Malheur\n",
       "FIPS_CODE                                             41045\n",
       "FIPS_NAME                                    Malheur County\n",
       "geometry      POINT (-117.89368699999994 42.39189399999998)\n",
       "Name: 66964, dtype: object"
      ]
     },
     "execution_count": 85,
     "metadata": {},
     "output_type": "execute_result"
    }
   ],
   "source": [
    "ld = df_xllarge.sort_values('FIRE_SIZE', ascending = False).copy()\n",
    "largestfire = ld.iloc[0]\n",
    "largestfire"
   ]
  },
  {
   "cell_type": "code",
   "execution_count": 52,
   "id": "7f8996c6",
   "metadata": {},
   "outputs": [
    {
     "data": {
      "text/plain": [
       "count              45898\n",
       "unique                45\n",
       "top       Jackson County\n",
       "freq                4284\n",
       "Name: FIPS_NAME, dtype: object"
      ]
     },
     "execution_count": 52,
     "metadata": {},
     "output_type": "execute_result"
    }
   ],
   "source": [
    "df['FIPS_NAME'].describe()"
   ]
  },
  {
   "cell_type": "code",
   "execution_count": 55,
   "id": "b9d8e737",
   "metadata": {
    "scrolled": false
   },
   "outputs": [
    {
     "data": {
      "text/plain": [
       "190      1909461.0\n",
       "9755     2118753.0\n",
       "9871     1359522.0\n",
       "11524    2118725.0\n",
       "13028    2118757.0\n",
       "41888    2043068.0\n",
       "45288    1359521.0\n",
       "51464    1577997.0\n",
       "56054    2118767.0\n",
       "60018    1359053.0\n",
       "60853    1065687.0\n",
       "63516     366700.0\n",
       "66793    1650247.0\n",
       "Name: OBJECTID, dtype: float64"
      ]
     },
     "execution_count": 55,
     "metadata": {},
     "output_type": "execute_result"
    }
   ],
   "source": [
    "df_xllarge_unknown['OBJECTID']"
   ]
  },
  {
   "cell_type": "code",
   "execution_count": 94,
   "id": "4b8e549b",
   "metadata": {},
   "outputs": [
    {
     "data": {
      "text/plain": [
       "10"
      ]
     },
     "execution_count": 94,
     "metadata": {},
     "output_type": "execute_result"
    }
   ],
   "source": [
    "df_small_lane = df_small[df_small['COUNTY'] == 'Lane']\n",
    "len(df_small_lane)"
   ]
  },
  {
   "cell_type": "code",
   "execution_count": 95,
   "id": "c52352b5",
   "metadata": {},
   "outputs": [],
   "source": [
    "from cenpy import products\n",
    "import matplotlib.pyplot as plt"
   ]
  },
  {
   "cell_type": "code",
   "execution_count": 97,
   "id": "db135aed",
   "metadata": {},
   "outputs": [],
   "source": [
    "# Define product\n",
    "acs = products.ACS(2019)"
   ]
  },
  {
   "cell_type": "code",
   "execution_count": null,
   "id": "2895ed23",
   "metadata": {
    "scrolled": true
   },
   "outputs": [],
   "source": [
    "malheur_pop = products.ACS(2019).from_county('Malheur County, OR', level = 'tract',\n",
    "                                              variables = ['B01003_001E'])"
   ]
  },
  {
   "cell_type": "code",
   "execution_count": 125,
   "id": "76aea4e0",
   "metadata": {},
   "outputs": [
    {
     "data": {
      "text/plain": [
       "<AxesSubplot:>"
      ]
     },
     "execution_count": 125,
     "metadata": {},
     "output_type": "execute_result"
    },
    {
     "data": {
      "image/png": "[encoded data removed]",
      "text/plain": [
       "<Figure size 720x720 with 3 Axes>"
      ]
     },
     "metadata": {
      "needs_background": "light"
     },
     "output_type": "display_data"
    }
   ],
   "source": [
    "# f, ax = plt.subplots(1,1, figsize=(10,10))\n",
    "# malhuer_pop.plot('B01003_001E', ax=ax, cmap = 'plasma')\n",
    "\n",
    "malheur_pop['pop_density'] = malheur_pop['B01003_001E'] / (malheur_pop['geometry'].area / 1e+6)\n",
    "\n",
    "from mpl_toolkits.axes_grid1 import make_axes_locatable\n",
    "\n",
    "f, ax = plt.subplots(1, 1, figsize=(10,10))\n",
    "\n",
    "divider = make_axes_locatable(ax)\n",
    "cax = divider.append_axes(\"right\", size=\"5%\", pad=0.1)\n",
    "\n",
    "malheur_pop.plot('pop_density', ax=ax, cmap='plasma', legend=True, cax=cax)\n",
    "\n",
    "df_tiny = df[df['FIRE_SIZE'] > 25]\n",
    "malheur_fires = df_tiny[df_tiny['FIPS_NAME'] == 'Malheur County']\n",
    "#malhuer_fires.crs\n",
    "\n",
    "malheur_fire_project = malheur_fires.to_crs('EPSG:3857')\n",
    "divider = make_axes_locatable(ax)\n",
    "cax = divider.append_axes(\"right\", size = \"5%\", pad = 0.1)\n",
    "malheur_fire_project.plot(ax=ax, c = 'red')"
   ]
  },
  {
   "cell_type": "markdown",
   "id": "293c9933",
   "metadata": {},
   "source": [
    "Lab2a\n",
    "Question 1: \n",
    "a) Jackson County(?) or Malheur\n",
    "b) July and August had the most fires over the total of all years\n",
    "c) 66,793 Fires\n",
    "d) Largest fire was in Malhuer County, 2012/07/08, and was called Long Draw\n",
    "e) 10 Fires in lane county larger than 50 acres"
   ]
  },
  {
   "cell_type": "markdown",
   "id": "f3d16843",
   "metadata": {},
   "source": [
    "Lab2b\n",
    "a) The last cell of code shows Malheur County Oregon, with the population density. Overlayed on that is the locations of all fires greeater than 25 acres. I was curious to see if the fires were in any way focused around poppulation centers or if it was truly dispersed. Seems that it was entirely random at an initial glance."
   ]
  }
 ],
 "metadata": {
  "kernelspec": {
   "display_name": "Python 3 (ipykernel)",
   "language": "python",
   "name": "python3"
  },
  "language_info": {
   "codemirror_mode": {
    "name": "ipython",
    "version": 3
   },
   "file_extension": ".py",
   "mimetype": "text/x-python",
   "name": "python",
   "nbconvert_exporter": "python",
   "pygments_lexer": "ipython3",
   "version": "3.8.12"
  }
 },
 "nbformat": 4,
 "nbformat_minor": 5
}
